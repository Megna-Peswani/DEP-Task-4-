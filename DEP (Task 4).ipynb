{
 "cells": [
  {
   "cell_type": "code",
   "execution_count": 1,
   "id": "1bf6dda0-e121-4d09-836f-ab19b4e55e39",
   "metadata": {},
   "outputs": [
    {
     "name": "stdout",
     "output_type": "stream",
     "text": [
      "Defaulting to user installation because normal site-packages is not writeable\n",
      "Requirement already satisfied: Flask in e:\\anaconda\\lib\\site-packages (3.0.3)\n",
      "Requirement already satisfied: Flask-SQLAlchemy in c:\\users\\pmls\\appdata\\roaming\\python\\python312\\site-packages (3.1.1)\n",
      "Requirement already satisfied: Flask-JWT-Extended in c:\\users\\pmls\\appdata\\roaming\\python\\python312\\site-packages (4.6.0)\n",
      "Requirement already satisfied: Werkzeug>=3.0.0 in e:\\anaconda\\lib\\site-packages (from Flask) (3.0.3)\n",
      "Requirement already satisfied: Jinja2>=3.1.2 in e:\\anaconda\\lib\\site-packages (from Flask) (3.1.4)\n",
      "Requirement already satisfied: itsdangerous>=2.1.2 in e:\\anaconda\\lib\\site-packages (from Flask) (2.2.0)\n",
      "Requirement already satisfied: click>=8.1.3 in e:\\anaconda\\lib\\site-packages (from Flask) (8.1.7)\n",
      "Requirement already satisfied: blinker>=1.6.2 in e:\\anaconda\\lib\\site-packages (from Flask) (1.6.2)\n",
      "Requirement already satisfied: sqlalchemy>=2.0.16 in e:\\anaconda\\lib\\site-packages (from Flask-SQLAlchemy) (2.0.30)\n",
      "Requirement already satisfied: PyJWT<3.0,>=2.0 in e:\\anaconda\\lib\\site-packages (from Flask-JWT-Extended) (2.8.0)\n",
      "Requirement already satisfied: colorama in e:\\anaconda\\lib\\site-packages (from click>=8.1.3->Flask) (0.4.6)\n",
      "Requirement already satisfied: MarkupSafe>=2.0 in e:\\anaconda\\lib\\site-packages (from Jinja2>=3.1.2->Flask) (2.1.3)\n",
      "Requirement already satisfied: typing-extensions>=4.6.0 in e:\\anaconda\\lib\\site-packages (from sqlalchemy>=2.0.16->Flask-SQLAlchemy) (4.11.0)\n",
      "Requirement already satisfied: greenlet!=0.4.17 in e:\\anaconda\\lib\\site-packages (from sqlalchemy>=2.0.16->Flask-SQLAlchemy) (3.0.1)\n"
     ]
    }
   ],
   "source": [
    "!pip install Flask Flask-SQLAlchemy Flask-JWT-Extended\n"
   ]
  },
  {
   "cell_type": "code",
   "execution_count": 3,
   "id": "41fea67a-d5f8-4876-8b80-d5ce0e6a9579",
   "metadata": {},
   "outputs": [],
   "source": [
    "from flask import Flask, request, jsonify\n",
    "from flask_sqlalchemy import SQLAlchemy\n",
    "from flask_jwt_extended import JWTManager, create_access_token, jwt_required, get_jwt_identity\n",
    "from werkzeug.security import generate_password_hash, check_password_hash\n"
   ]
  },
  {
   "cell_type": "code",
   "execution_count": 5,
   "id": "87b39244-7c23-4f81-bb92-1dcb5e8d8779",
   "metadata": {},
   "outputs": [],
   "source": [
    "app = Flask(__name__)\n",
    "app.config['SQLALCHEMY_DATABASE_URI'] = 'sqlite:///test.db'\n",
    "app.config['SQLALCHEMY_TRACK_MODIFICATIONS'] = False\n",
    "app.config['JWT_SECRET_KEY'] = 'your_secret_key'  # Replace with your secret key\n",
    "db = SQLAlchemy(app)\n",
    "jwt = JWTManager(app)\n"
   ]
  },
  {
   "cell_type": "code",
   "execution_count": 7,
   "id": "47fc4526-50b5-4a39-9eff-5fd1ac614c80",
   "metadata": {},
   "outputs": [],
   "source": [
    "class User(db.Model):\n",
    "    id = db.Column(db.Integer, primary_key=True)\n",
    "    username = db.Column(db.String(80), unique=True, nullable=False)\n",
    "    password = db.Column(db.String(120), nullable=False)\n",
    "\n",
    "class Item(db.Model):\n",
    "    id = db.Column(db.Integer, primary_key=True)\n",
    "    name = db.Column(db.String(80), nullable=False)\n",
    "    description = db.Column(db.String(200), nullable=True)\n"
   ]
  },
  {
   "cell_type": "code",
   "execution_count": 9,
   "id": "611d9e93-6881-4b45-9115-6a354d66edd4",
   "metadata": {},
   "outputs": [],
   "source": [
    "with app.app_context():\n",
    "    db.create_all()\n"
   ]
  },
  {
   "cell_type": "code",
   "execution_count": 11,
   "id": "afe0bb42-3bc3-43d1-8130-ff60fa24ffcd",
   "metadata": {},
   "outputs": [],
   "source": [
    "@app.route('/register', methods=['POST'])\n",
    "def register():\n",
    "    data = request.get_json()\n",
    "    hashed_password = generate_password_hash(data['password'], method='sha256')\n",
    "    new_user = User(username=data['username'], password=hashed_password)\n",
    "    db.session.add(new_user)\n",
    "    db.session.commit()\n",
    "    return jsonify({'message': 'User registered successfully!'})\n"
   ]
  },
  {
   "cell_type": "code",
   "execution_count": 13,
   "id": "45be2181-b373-439c-b0aa-050dc3dc4507",
   "metadata": {},
   "outputs": [],
   "source": [
    "@app.route('/login', methods=['POST'])\n",
    "def login():\n",
    "    data = request.get_json()\n",
    "    user = User.query.filter_by(username=data['username']).first()\n",
    "    if not user or not check_password_hash(user.password, data['password']):\n",
    "        return jsonify({'message': 'Invalid credentials!'}), 401\n",
    "    \n",
    "    access_token = create_access_token(identity={'username': user.username})\n",
    "    return jsonify({'access_token': access_token})\n"
   ]
  },
  {
   "cell_type": "code",
   "execution_count": 15,
   "id": "655fa3ab-27c4-4e30-b38d-b634ae486bef",
   "metadata": {},
   "outputs": [],
   "source": [
    "@app.route('/item', methods=['POST'])\n",
    "@jwt_required()\n",
    "def create_item():\n",
    "    data = request.get_json()\n",
    "    new_item = Item(name=data['name'], description=data.get('description', ''))\n",
    "    db.session.add(new_item)\n",
    "    db.session.commit()\n",
    "    return jsonify({'message': 'Item created successfully!'})\n"
   ]
  },
  {
   "cell_type": "code",
   "execution_count": 17,
   "id": "d36d8587-119c-4855-af0c-467ab6555654",
   "metadata": {},
   "outputs": [],
   "source": [
    "@app.route('/items', methods=['GET'])\n",
    "@jwt_required()\n",
    "def get_items():\n",
    "    items = Item.query.all()\n",
    "    output = []\n",
    "    for item in items:\n",
    "        item_data = {'id': item.id, 'name': item.name, 'description': item.description}\n",
    "        output.append(item_data)\n",
    "    return jsonify({'items': output})\n"
   ]
  },
  {
   "cell_type": "code",
   "execution_count": 19,
   "id": "667aea5b-5634-4722-b4b6-b911b7676010",
   "metadata": {},
   "outputs": [],
   "source": [
    "@app.route('/item/<int:id>', methods=['PUT'])\n",
    "@jwt_required()\n",
    "def update_item(id):\n",
    "    data = request.get_json()\n",
    "    item = Item.query.get(id)\n",
    "    if not item:\n",
    "        return jsonify({'message': 'Item not found!'}), 404\n",
    "\n",
    "    item.name = data['name']\n",
    "    item.description = data.get('description', item.description)\n",
    "    db.session.commit()\n",
    "    return jsonify({'message': 'Item updated successfully!'})\n"
   ]
  },
  {
   "cell_type": "code",
   "execution_count": 21,
   "id": "edeeef56-edaa-42cd-a99a-642b7e871fc8",
   "metadata": {},
   "outputs": [],
   "source": [
    "@app.route('/item/<int:id>', methods=['DELETE'])\n",
    "@jwt_required()\n",
    "def delete_item(id):\n",
    "    item = Item.query.get(id)\n",
    "    if not item:\n",
    "        return jsonify({'message': 'Item not found!'}), 404\n",
    "    \n",
    "    db.session.delete(item)\n",
    "    db.session.commit()\n",
    "    return jsonify({'message': 'Item deleted successfully!'})\n"
   ]
  },
  {
   "cell_type": "code",
   "execution_count": null,
   "id": "b1634a17-44be-47de-bdad-5eba78ad35e3",
   "metadata": {},
   "outputs": [
    {
     "name": "stderr",
     "output_type": "stream",
     "text": [
      "WARNING: This is a development server. Do not use it in a production deployment. Use a production WSGI server instead.\n",
      " * Running on http://localhost:5000\n",
      "Press CTRL+C to quit\n",
      "127.0.0.1 - - [27/Aug/2024 12:58:56] \"GET / HTTP/1.1\" 404 -\n",
      "127.0.0.1 - - [27/Aug/2024 12:58:56] \"GET /favicon.ico HTTP/1.1\" 404 -\n"
     ]
    }
   ],
   "source": [
    "from flask import Flask\n",
    "from werkzeug.serving import run_simple\n",
    "\n",
    "run_simple('localhost', 5000, app)\n"
   ]
  },
  {
   "cell_type": "code",
   "execution_count": null,
   "id": "0ac2b575-3296-4df7-ad7f-d5dcf57ceffb",
   "metadata": {},
   "outputs": [],
   "source": []
  }
 ],
 "metadata": {
  "kernelspec": {
   "display_name": "Python 3 (ipykernel)",
   "language": "python",
   "name": "python3"
  },
  "language_info": {
   "codemirror_mode": {
    "name": "ipython",
    "version": 3
   },
   "file_extension": ".py",
   "mimetype": "text/x-python",
   "name": "python",
   "nbconvert_exporter": "python",
   "pygments_lexer": "ipython3",
   "version": "3.12.4"
  }
 },
 "nbformat": 4,
 "nbformat_minor": 5
}
